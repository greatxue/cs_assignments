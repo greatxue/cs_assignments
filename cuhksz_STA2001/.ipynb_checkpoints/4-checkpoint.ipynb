{
 "cells": [
  {
   "cell_type": "code",
   "execution_count": 3,
   "metadata": {},
   "outputs": [
    {
     "data": {
      "text/plain": [
       "'\\nProblem:\\n\\nConsider an urn consisting of 100 balls. Suppose half of these balls are red, and half are black.  \\nYou are to randomly pick 5 balls from the urn. Let X be the number of red balls in such a sample. \\nThen X has a hyper-geometric distribution with pmf:  \\nf(x)=( C(50,x) * C(50, (5-x)) ) / C(100,5)\\n\\n1. Simulate this sampling experiment 1,000 times.\\n2. Produce a relative frequency histogram of X\\n3. Compare the actual observed values of X with the theoretical frequency obtained from equation above\\n    by plotting the theoretical frequency in the same figure as the simulation results.\\n\\n'"
      ]
     },
     "execution_count": 3,
     "metadata": {},
     "output_type": "execute_result"
    }
   ],
   "source": [
    "\"\"\"\n",
    "Problem:\n",
    "\n",
    "Consider an urn consisting of 100 balls. Suppose half of these balls are red, and half are black.  \n",
    "You are to randomly pick 5 balls from the urn. Let X be the number of red balls in such a sample. \n",
    "Then X has a hyper-geometric distribution with pmf:  \n",
    "f(x)=( C(50,x) * C(50, (5-x)) ) / C(100,5)\n",
    "\n",
    "1. Simulate this sampling experiment 1,000 times.\n",
    "2. Produce a relative frequency histogram of X\n",
    "3. Compare the actual observed values of X with the theoretical frequency obtained from equation above\n",
    "    by plotting the theoretical frequency in the same figure as the simulation results.\n",
    "\n",
    "\"\"\""
   ]
  },
  {
   "cell_type": "code",
   "execution_count": 4,
   "metadata": {},
   "outputs": [],
   "source": [
    "import matplotlib.pyplot as plt\n",
    "import numpy as np\n",
    "import random\n",
    "\n",
    "from scipy import stats"
   ]
  },
  {
   "cell_type": "code",
   "execution_count": 5,
   "metadata": {},
   "outputs": [
    {
     "data": {
      "text/plain": [
       "array([1, 5, 4, 2, 3, 1, 2, 1, 3, 2, 4, 2, 1, 3, 1, 3, 3, 2, 4, 2, 1, 2,\n",
       "       4, 2, 2, 2, 3, 2, 4, 2, 3, 1, 2, 2, 2, 3, 2, 1, 2, 3, 3, 1, 1, 3,\n",
       "       1, 4, 3, 3, 4, 2, 3, 2, 2, 3, 0, 3, 5, 2, 3, 3, 4, 0, 2, 2, 2, 3,\n",
       "       3, 2, 3, 1, 2, 3, 3, 2, 3, 2, 2, 3, 3, 2, 3, 2, 2, 3, 1, 3, 0, 1,\n",
       "       3, 3, 2, 3, 3, 2, 1, 3, 3, 1, 1, 1])"
      ]
     },
     "execution_count": 5,
     "metadata": {},
     "output_type": "execute_result"
    }
   ],
   "source": [
    "ngood, nbad, nsamp, nsim = 50, 50, 5, 100\n",
    "s = np.random.hypergeometric(ngood, nbad, nsamp, nsim)\n",
    "s"
   ]
  },
  {
   "cell_type": "code",
   "execution_count": 6,
   "metadata": {},
   "outputs": [
    {
     "data": {
      "text/plain": [
       "array([1, 1, 3, 1, 3, 3, 2, 2, 3, 4, 1, 3, 1, 3, 3, 4, 0, 1, 4, 2, 3, 2,\n",
       "       4, 3, 3, 2, 2, 2, 2, 3, 3, 2, 1, 2, 3, 3, 2, 2, 2, 4, 4, 4, 4, 5,\n",
       "       2, 3, 4, 3, 2, 3, 3, 2, 3, 3, 1, 2, 2, 3, 3, 1, 4, 3, 3, 3, 3, 4,\n",
       "       2, 1, 4, 4, 3, 2, 3, 4, 2, 4, 2, 2, 1, 2, 4, 2, 4, 3, 1, 3, 2, 3,\n",
       "       2, 3, 3, 2, 2, 3, 3, 1, 3, 3, 4, 1])"
      ]
     },
     "execution_count": 6,
     "metadata": {},
     "output_type": "execute_result"
    }
   ],
   "source": [
    "s = []\n",
    "for i in range(nsim):\n",
    "    population = [True] * ngood + [False] * nbad\n",
    "    random.shuffle(population)\n",
    "    s.append(sum(population[:nsamp]))\n",
    "np.array(s)"
   ]
  },
  {
   "cell_type": "code",
   "execution_count": 8,
   "metadata": {},
   "outputs": [
    {
     "ename": "AttributeError",
     "evalue": "module 'numpy' has no attribute 'arrange'",
     "output_type": "error",
     "traceback": [
      "\u001b[0;31m---------------------------------------------------------------------------\u001b[0m",
      "\u001b[0;31mAttributeError\u001b[0m                            Traceback (most recent call last)",
      "Cell \u001b[0;32mIn [8], line 2\u001b[0m\n\u001b[1;32m      1\u001b[0m rv \u001b[38;5;241m=\u001b[39m stats\u001b[38;5;241m.\u001b[39mhypergeom(ngood \u001b[38;5;241m+\u001b[39m nbad, ngood, nsamp)\n\u001b[0;32m----> 2\u001b[0m x \u001b[38;5;241m=\u001b[39m \u001b[43mnp\u001b[49m\u001b[38;5;241;43m.\u001b[39;49m\u001b[43marrange\u001b[49m(\u001b[38;5;241m0\u001b[39m, ngood \u001b[38;5;241m+\u001b[39m \u001b[38;5;241m1\u001b[39m)\n\u001b[1;32m      3\u001b[0m pmf \u001b[38;5;241m=\u001b[39m rv\u001b[38;5;241m.\u001b[39mpmf(x)\n\u001b[1;32m      5\u001b[0m fig \u001b[38;5;241m=\u001b[39m plt\u001b[38;5;241m.\u001b[39mfigure()\n",
      "File \u001b[0;32m/Library/Frameworks/Python.framework/Versions/3.11/lib/python3.11/site-packages/numpy/__init__.py:311\u001b[0m, in \u001b[0;36m__getattr__\u001b[0;34m(attr)\u001b[0m\n\u001b[1;32m    308\u001b[0m     \u001b[38;5;28;01mfrom\u001b[39;00m \u001b[38;5;21;01m.\u001b[39;00m\u001b[38;5;21;01mtesting\u001b[39;00m \u001b[38;5;28;01mimport\u001b[39;00m Tester\n\u001b[1;32m    309\u001b[0m     \u001b[38;5;28;01mreturn\u001b[39;00m Tester\n\u001b[0;32m--> 311\u001b[0m \u001b[38;5;28;01mraise\u001b[39;00m \u001b[38;5;167;01mAttributeError\u001b[39;00m(\u001b[38;5;124m\"\u001b[39m\u001b[38;5;124mmodule \u001b[39m\u001b[38;5;132;01m{!r}\u001b[39;00m\u001b[38;5;124m has no attribute \u001b[39m\u001b[38;5;124m\"\u001b[39m\n\u001b[1;32m    312\u001b[0m                      \u001b[38;5;124m\"\u001b[39m\u001b[38;5;132;01m{!r}\u001b[39;00m\u001b[38;5;124m\"\u001b[39m\u001b[38;5;241m.\u001b[39mformat(\u001b[38;5;18m__name__\u001b[39m, attr))\n",
      "\u001b[0;31mAttributeError\u001b[0m: module 'numpy' has no attribute 'arrange'"
     ]
    }
   ],
   "source": [
    "rv = stats.hypergeom(ngood + nbad, ngood, nsamp)\n",
    "x = np.arange(0, ngood + 1)\n",
    "pmf = rv.pmf(x)\n",
    "\n",
    "fig = plt.figure()\n",
    "ax = fig.add_sunplot()\n"
   ]
  },
  {
   "cell_type": "code",
   "execution_count": null,
   "metadata": {},
   "outputs": [],
   "source": []
  }
 ],
 "metadata": {
  "kernelspec": {
   "display_name": "Python 3 (ipykernel)",
   "language": "python",
   "name": "python3"
  },
  "language_info": {
   "codemirror_mode": {
    "name": "ipython",
    "version": 3
   },
   "file_extension": ".py",
   "mimetype": "text/x-python",
   "name": "python",
   "nbconvert_exporter": "python",
   "pygments_lexer": "ipython3",
   "version": "3.11.0"
  }
 },
 "nbformat": 4,
 "nbformat_minor": 2
}
