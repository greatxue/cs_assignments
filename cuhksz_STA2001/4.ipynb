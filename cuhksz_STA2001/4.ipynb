{
 "cells": [
  {
   "cell_type": "code",
   "execution_count": 2,
   "metadata": {},
   "outputs": [
    {
     "data": {
      "text/plain": [
       "'\\nProblem:\\n\\nConsider an urn consisting of 100 balls. Suppose half of these balls are red, and half are black.  \\nYou are to randomly pick 5 balls from the urn. Let X be the number of red balls in such a sample. \\nThen X has a hyper-geometric distribution with pmf:  \\nf(x)=( C(50,x) * C(50, (5-x)) ) / C(100,5)\\n\\n1. Simulate this sampling experiment 1,000 times.\\n2. Produce a relative frequency histogram of X\\n3. Compare the actual observed values of X with the theoretical frequency obtained from equation above\\n    by plotting the theoretical frequency in the same figure as the simulation results.\\n\\n'"
      ]
     },
     "execution_count": 2,
     "metadata": {},
     "output_type": "execute_result"
    }
   ],
   "source": [
    "\"\"\"\n",
    "Problem:\n",
    "\n",
    "Consider an urn consisting of 100 balls. Suppose half of these balls are red, and half are black.  \n",
    "You are to randomly pick 5 balls from the urn. Let X be the number of red balls in such a sample. \n",
    "Then X has a hyper-geometric distribution with pmf:  \n",
    "f(x)=( C(50,x) * C(50, (5-x)) ) / C(100,5)\n",
    "\n",
    "1. Simulate this sampling experiment 1,000 times.\n",
    "2. Produce a relative frequency histogram of X\n",
    "3. Compare the actual observed values of X with the theoretical frequency obtained from equation above\n",
    "    by plotting the theoretical frequency in the same figure as the simulation results.\n",
    "\n",
    "\"\"\""
   ]
  },
  {
   "cell_type": "code",
   "execution_count": 3,
   "metadata": {},
   "outputs": [],
   "source": [
    "import matplotlib.pyplot as plt\n",
    "import numpy as np\n",
    "import random\n",
    "\n",
    "from scipy import stats"
   ]
  },
  {
   "cell_type": "code",
   "execution_count": 4,
   "metadata": {},
   "outputs": [
    {
     "data": {
      "text/plain": [
       "array([2, 3, 2, 2, 1, 4, 4, 0, 1, 3, 3, 4, 4, 1, 3, 4, 4, 2, 2, 2, 4, 4,\n",
       "       2, 1, 2, 4, 4, 3, 3, 2, 5, 2, 4, 1, 3, 2, 4, 2, 3, 2, 3, 2, 3, 1,\n",
       "       2, 2, 3, 2, 1, 3, 4, 3, 3, 1, 2, 2, 3, 3, 3, 2, 1, 3, 3, 1, 2, 2,\n",
       "       1, 3, 1, 1, 0, 1, 1, 3, 4, 1, 2, 5, 2, 3, 3, 3, 3, 2, 2, 2, 1, 4,\n",
       "       2, 3, 4, 2, 4, 3, 4, 1, 2, 4, 3, 4])"
      ]
     },
     "execution_count": 4,
     "metadata": {},
     "output_type": "execute_result"
    }
   ],
   "source": [
    "ngood, nbad, nsamp, nsim = 50, 50, 5, 100\n",
    "s = np.random.hypergeometric(ngood, nbad, nsamp, nsim)\n",
    "s"
   ]
  },
  {
   "cell_type": "code",
   "execution_count": 5,
   "metadata": {},
   "outputs": [
    {
     "data": {
      "text/plain": [
       "array([5, 4, 1, 4, 4, 4, 3, 4, 3, 2, 4, 4, 2, 3, 3, 3, 1, 3, 3, 1, 1, 3,\n",
       "       2, 2, 1, 5, 2, 3, 3, 1, 1, 3, 3, 2, 1, 4, 2, 4, 3, 2, 0, 0, 2, 2,\n",
       "       2, 3, 4, 3, 3, 2, 2, 1, 2, 3, 2, 3, 5, 2, 2, 2, 2, 4, 5, 4, 2, 2,\n",
       "       3, 2, 3, 2, 4, 3, 3, 3, 2, 1, 2, 3, 3, 4, 3, 2, 4, 3, 3, 4, 3, 2,\n",
       "       2, 2, 3, 2, 1, 4, 3, 2, 2, 2, 4, 1])"
      ]
     },
     "execution_count": 5,
     "metadata": {},
     "output_type": "execute_result"
    }
   ],
   "source": [
    "s = []\n",
    "for i in range(nsim):\n",
    "    population = [True] * ngood + [False] * nbad\n",
    "    random.shuffle(population)\n",
    "    s.append(sum(population[:nsamp]))\n",
    "np.array(s)"
   ]
  },
  {
   "cell_type": "code",
   "execution_count": 6,
   "metadata": {},
   "outputs": [
    {
     "ename": "AttributeError",
     "evalue": "'Figure' object has no attribute 'add_sunplot'",
     "output_type": "error",
     "traceback": [
      "\u001b[0;31m---------------------------------------------------------------------------\u001b[0m",
      "\u001b[0;31mAttributeError\u001b[0m                            Traceback (most recent call last)",
      "\u001b[1;32m/Users/kevinshuey/Documents/Files/Github/cs_assignments/cuhksz_STA2001/4.ipynb Cell 5\u001b[0m in \u001b[0;36m6\n\u001b[1;32m      <a href='vscode-notebook-cell:/Users/kevinshuey/Documents/Files/Github/cs_assignments/cuhksz_STA2001/4.ipynb#W4sZmlsZQ%3D%3D?line=2'>3</a>\u001b[0m pmf \u001b[39m=\u001b[39m rv\u001b[39m.\u001b[39mpmf(x)\n\u001b[1;32m      <a href='vscode-notebook-cell:/Users/kevinshuey/Documents/Files/Github/cs_assignments/cuhksz_STA2001/4.ipynb#W4sZmlsZQ%3D%3D?line=4'>5</a>\u001b[0m fig \u001b[39m=\u001b[39m plt\u001b[39m.\u001b[39mfigure()\n\u001b[0;32m----> <a href='vscode-notebook-cell:/Users/kevinshuey/Documents/Files/Github/cs_assignments/cuhksz_STA2001/4.ipynb#W4sZmlsZQ%3D%3D?line=5'>6</a>\u001b[0m ax \u001b[39m=\u001b[39m fig\u001b[39m.\u001b[39;49madd_sunplot()\n",
      "\u001b[0;31mAttributeError\u001b[0m: 'Figure' object has no attribute 'add_sunplot'"
     ]
    },
    {
     "data": {
      "text/plain": [
       "<Figure size 640x480 with 0 Axes>"
      ]
     },
     "metadata": {},
     "output_type": "display_data"
    }
   ],
   "source": [
    "rv = stats.hypergeom(ngood + nbad, ngood, nsamp)\n",
    "x = np.arange(0, ngood + 1)\n",
    "pmf = rv.pmf(x)\n",
    "\n",
    "fig = plt.figure()\n",
    "ax = fig.add_sunplot()\n"
   ]
  },
  {
   "cell_type": "code",
   "execution_count": null,
   "metadata": {},
   "outputs": [],
   "source": []
  }
 ],
 "metadata": {
  "kernelspec": {
   "display_name": "Python 3 (ipykernel)",
   "language": "python",
   "name": "python3"
  },
  "language_info": {
   "codemirror_mode": {
    "name": "ipython",
    "version": 3
   },
   "file_extension": ".py",
   "mimetype": "text/x-python",
   "name": "python",
   "nbconvert_exporter": "python",
   "pygments_lexer": "ipython3",
   "version": "3.11.0"
  }
 },
 "nbformat": 4,
 "nbformat_minor": 2
}
